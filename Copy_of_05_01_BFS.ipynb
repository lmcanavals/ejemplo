{
  "nbformat": 4,
  "nbformat_minor": 0,
  "metadata": {
    "colab": {
      "name": "Copy of 05-01-BFS.ipynb",
      "provenance": [],
      "authorship_tag": "ABX9TyMt6BJOapmtrfZMOTJIqiAZ",
      "include_colab_link": true
    },
    "kernelspec": {
      "name": "python3",
      "display_name": "Python 3"
    },
    "language_info": {
      "name": "python"
    }
  },
  "cells": [
    {
      "cell_type": "markdown",
      "metadata": {
        "id": "view-in-github",
        "colab_type": "text"
      },
      "source": [
        "<a href=\"https://colab.research.google.com/github/lmcanavals/ejemplo/blob/main/Copy_of_05_01_BFS.ipynb\" target=\"_parent\"><img src=\"https://colab.research.google.com/assets/colab-badge.svg\" alt=\"Open In Colab\"/></a>"
      ]
    },
    {
      "cell_type": "markdown",
      "metadata": {
        "id": "xwIN8RWBEZt2"
      },
      "source": [
        "# Breadth First Search\n",
        "\n",
        "BFS para los amigos"
      ]
    },
    {
      "cell_type": "code",
      "metadata": {
        "id": "45gvwsnBEVaY"
      },
      "source": [
        "import graphviz as gv\n",
        "import numpy as np\n",
        "import pandas as pd\n",
        "import heapq as hq\n",
        "import math"
      ],
      "execution_count": 10,
      "outputs": []
    },
    {
      "cell_type": "code",
      "metadata": {
        "id": "y8pI48N0ElI9"
      },
      "source": [
        "def readAdjl(fn, haslabels=False, weighted=False, sep=\"|\"):\n",
        "  with open(fn) as f:\n",
        "    labels = None\n",
        "    if haslabels:\n",
        "      labels = f.readline().strip().split()\n",
        "    L = []\n",
        "    for line in f:\n",
        "      if weighted:\n",
        "        L.append([tuple(map(int, p.split(sep))) for p in line.strip().split()])\n",
        "        # line => \"1|3 2|5 4|4\" ==> [(1, 3), (2, 5), (4, 4)]\n",
        "      else: \n",
        "        L.append(list(map(int, line.strip().split()))) # \"1 3 5\" => [1, 3, 5]\n",
        "        # L.append([int(x) for x in line.strip().split()])\n",
        "  return L, labels\n",
        "\n",
        "def adjlShow(L, labels=None, directed=False, weighted=False, path=[],\n",
        "             layout=\"sfdp\"):\n",
        "  g = gv.Digraph(\"G\") if directed else gv.Graph(\"G\")\n",
        "  g.graph_attr[\"layout\"] = layout\n",
        "  g.edge_attr[\"color\"] = \"gray\"\n",
        "  g.node_attr[\"color\"] = \"orangered\"\n",
        "  g.node_attr[\"width\"] = \"0.1\"\n",
        "  g.node_attr[\"height\"] = \"0.1\"\n",
        "  g.node_attr[\"fontsize\"] = \"8\"\n",
        "  g.node_attr[\"fontcolor\"] = \"mediumslateblue\"\n",
        "  g.node_attr[\"fontname\"] = \"monospace\"\n",
        "  g.edge_attr[\"fontsize\"] = \"8\"\n",
        "  g.edge_attr[\"fontcolor\"] = \"gray\"\n",
        "  g.edge_attr[\"fontname\"] = \"monospace\"\n",
        "  n = len(L)\n",
        "  for u in range(n):\n",
        "    g.node(str(u), labels[u] if labels else str(u))\n",
        "  added = set()\n",
        "  for v, u in enumerate(path):\n",
        "    if u != None:\n",
        "      if weighted:\n",
        "        for vi, w in G[u]:\n",
        "          if vi == v:\n",
        "            break\n",
        "        g.edge(str(u), str(v), str(w), dir=\"forward\", penwidth=\"2\", color=\"orange\")\n",
        "      else:\n",
        "        g.edge(str(u), str(v), dir=\"forward\", penwidth=\"2\", color=\"orange\")\n",
        "      added.add(f\"{u},{v}\")\n",
        "      added.add(f\"{v},{u}\")\n",
        "  if weighted:\n",
        "    for u in range(n):\n",
        "      for v, w in L[u]:\n",
        "        if not directed and not f\"{u},{v}\" in added:\n",
        "          added.add(f\"{u},{v}\")\n",
        "          added.add(f\"{v},{u}\")\n",
        "          g.edge(str(u), str(v), str(w))\n",
        "        elif directed:\n",
        "          g.edge(str(u), str(v), str(w))\n",
        "  else:\n",
        "    for u in range(n):\n",
        "      for v in L[u]:\n",
        "        if not directed and not f\"{u},{v}\" in added:\n",
        "          added.add(f\"{u},{v}\")\n",
        "          added.add(f\"{v},{u}\")\n",
        "          g.edge(str(u), str(v))\n",
        "        elif directed:\n",
        "          g.edge(str(u), str(v))\n",
        "  return g"
      ],
      "execution_count": 17,
      "outputs": []
    },
    {
      "cell_type": "code",
      "metadata": {
        "id": "FohkL1rE8Kz_"
      },
      "source": [
        "def dijkstra(G, s):\n",
        "  n = len(G)\n",
        "  visited = [False]*n\n",
        "  parent = [None]*n\n",
        "  cost = [math.inf]*n # this is the function g, g(u) = ...\n",
        "  q = [(0, s)]\n",
        "  cost[s] = 0\n",
        "  while q:\n",
        "    g_u, u = hq.heappop(q)\n",
        "    if not visited[u]:\n",
        "      visited[u] = True\n",
        "      for v, w in G[u]:\n",
        "        f = g_u + w\n",
        "        if not visited[v] and f < cost[v]:\n",
        "          cost[v] = f\n",
        "          parent[v] = u\n",
        "          hq.heappush(q, (f, v))\n",
        "  \n",
        "  return parent, cost"
      ],
      "execution_count": 14,
      "outputs": []
    },
    {
      "cell_type": "code",
      "metadata": {
        "colab": {
          "base_uri": "https://localhost:8080/"
        },
        "id": "g_OYjTDtGN03",
        "outputId": "ec017a03-24b8-4ad6-8553-ac16697ddd69"
      },
      "source": [
        "%%file 1.in\n",
        "2|4 7|8 14|3\n",
        "2|7 5|7\n",
        "0|4 1|7 3|5 6|1\n",
        "2|5\n",
        "7|7\n",
        "1|7 6|1 8|5\n",
        "2|1 5|1\n",
        "0|8 4|7 8|8\n",
        "5|5 7|8 9|8 11|9 12|6\n",
        "8|8 10|8 12|9 13|7\n",
        "9|8 13|3\n",
        "8|9\n",
        "8|6 9|9 13|2 15|5\n",
        "9|7 10|13 12|2 16|9\n",
        "0|3 15|9\n",
        "12|5 14|9 17|7\n",
        "13|9 17|8\n",
        "15|7 16|8"
      ],
      "execution_count": 3,
      "outputs": [
        {
          "output_type": "stream",
          "name": "stdout",
          "text": [
            "Writing 1.in\n"
          ]
        }
      ]
    },
    {
      "cell_type": "code",
      "metadata": {
        "colab": {
          "base_uri": "https://localhost:8080/",
          "height": 705
        },
        "id": "OeT-s6y7HVAA",
        "outputId": "e3fa3d76-9486-49f9-f9ca-8dc967659b8c"
      },
      "source": [
        "G, _ = readAdjl(\"1.in\", weighted=True)\n",
        "for i, edges in enumerate(G):\n",
        "  print(f\"{i:2}: {edges}\")\n",
        "adjlShow(G, weighted=True)"
      ],
      "execution_count": 8,
      "outputs": [
        {
          "output_type": "stream",
          "name": "stdout",
          "text": [
            " 0: [(2, 4), (7, 8), (14, 3)]\n",
            " 1: [(2, 7), (5, 7)]\n",
            " 2: [(0, 4), (1, 7), (3, 5), (6, 1)]\n",
            " 3: [(2, 5)]\n",
            " 4: [(7, 7)]\n",
            " 5: [(1, 7), (6, 1), (8, 5)]\n",
            " 6: [(2, 1), (5, 1)]\n",
            " 7: [(0, 8), (4, 7), (8, 8)]\n",
            " 8: [(5, 5), (7, 8), (9, 8), (11, 9), (12, 6)]\n",
            " 9: [(8, 8), (10, 8), (12, 9), (13, 7)]\n",
            "10: [(9, 8), (13, 3)]\n",
            "11: [(8, 9)]\n",
            "12: [(8, 6), (9, 9), (13, 2), (15, 5)]\n",
            "13: [(9, 7), (10, 13), (12, 2), (16, 9)]\n",
            "14: [(0, 3), (15, 9)]\n",
            "15: [(12, 5), (14, 9), (17, 7)]\n",
            "16: [(13, 9), (17, 8)]\n",
            "17: [(15, 7), (16, 8)]\n"
          ]
        },
        {
          "output_type": "execute_result",
          "data": {
            "text/plain": [
              "<graphviz.dot.Graph at 0x7f81b29edf10>"
            ],
            "image/svg+xml": "<?xml version=\"1.0\" encoding=\"UTF-8\" standalone=\"no\"?>\n<!DOCTYPE svg PUBLIC \"-//W3C//DTD SVG 1.1//EN\"\n \"http://www.w3.org/Graphics/SVG/1.1/DTD/svg11.dtd\">\n<!-- Generated by graphviz version 2.40.1 (20161225.0304)\n -->\n<!-- Title: G Pages: 1 -->\n<svg width=\"512pt\" height=\"271pt\"\n viewBox=\"0.00 0.00 511.87 270.93\" xmlns=\"http://www.w3.org/2000/svg\" xmlns:xlink=\"http://www.w3.org/1999/xlink\">\n<g id=\"graph0\" class=\"graph\" transform=\"scale(1 1) rotate(0) translate(4 266.9258)\">\n<title>G</title>\n<polygon fill=\"#ffffff\" stroke=\"transparent\" points=\"-4,4 -4,-266.9258 507.874,-266.9258 507.874,4 -4,4\"/>\n<!-- 0 -->\n<g id=\"node1\" class=\"node\">\n<title>0</title>\n<ellipse fill=\"none\" stroke=\"#ff4500\" cx=\"323.6499\" cy=\"-46.3854\" rx=\"15.6129\" ry=\"12.0417\"/>\n<text text-anchor=\"middle\" x=\"323.6499\" y=\"-44.4854\" font-family=\"monospace\" font-size=\"8.00\" fill=\"#7b68ee\">0</text>\n</g>\n<!-- 2 -->\n<g id=\"node3\" class=\"node\">\n<title>2</title>\n<ellipse fill=\"none\" stroke=\"#ff4500\" cx=\"419.2658\" cy=\"-87.7801\" rx=\"15.6129\" ry=\"12.0417\"/>\n<text text-anchor=\"middle\" x=\"419.2658\" y=\"-85.8801\" font-family=\"monospace\" font-size=\"8.00\" fill=\"#7b68ee\">2</text>\n</g>\n<!-- 0&#45;&#45;2 -->\n<g id=\"edge1\" class=\"edge\">\n<title>0&#45;&#45;2</title>\n<path fill=\"none\" stroke=\"#c0c0c0\" d=\"M337.3493,-52.3163C355.5259,-60.1854 387.428,-73.9967 405.5917,-81.8603\"/>\n<text text-anchor=\"middle\" x=\"368.4705\" y=\"-69.6883\" font-family=\"monospace\" font-size=\"8.00\" fill=\"#c0c0c0\">4</text>\n</g>\n<!-- 7 -->\n<g id=\"node8\" class=\"node\">\n<title>7</title>\n<ellipse fill=\"none\" stroke=\"#ff4500\" cx=\"281.096\" cy=\"-108.96\" rx=\"15.6129\" ry=\"12.0417\"/>\n<text text-anchor=\"middle\" x=\"281.096\" y=\"-107.06\" font-family=\"monospace\" font-size=\"8.00\" fill=\"#7b68ee\">7</text>\n</g>\n<!-- 0&#45;&#45;7 -->\n<g id=\"edge2\" class=\"edge\">\n<title>0&#45;&#45;7</title>\n<path fill=\"none\" stroke=\"#c0c0c0\" d=\"M316.2375,-57.2851C308.4271,-68.7702 296.2016,-86.7474 288.4234,-98.1852\"/>\n<text text-anchor=\"middle\" x=\"299.3305\" y=\"-80.3351\" font-family=\"monospace\" font-size=\"8.00\" fill=\"#c0c0c0\">8</text>\n</g>\n<!-- 14 -->\n<g id=\"node15\" class=\"node\">\n<title>14</title>\n<ellipse fill=\"none\" stroke=\"#ff4500\" cx=\"233.0685\" cy=\"-12.0208\" rx=\"19.1842\" ry=\"12.0417\"/>\n<text text-anchor=\"middle\" x=\"233.0685\" y=\"-10.1208\" font-family=\"monospace\" font-size=\"8.00\" fill=\"#7b68ee\">14</text>\n</g>\n<!-- 0&#45;&#45;14 -->\n<g id=\"edge3\" class=\"edge\">\n<title>0&#45;&#45;14</title>\n<path fill=\"none\" stroke=\"#c0c0c0\" d=\"M309.4965,-41.0159C293.2755,-34.862 266.7262,-24.7898 249.5772,-18.2839\"/>\n<text text-anchor=\"middle\" x=\"276.5369\" y=\"-32.2499\" font-family=\"monospace\" font-size=\"8.00\" fill=\"#c0c0c0\">3</text>\n</g>\n<!-- 1 -->\n<g id=\"node2\" class=\"node\">\n<title>1</title>\n<ellipse fill=\"none\" stroke=\"#ff4500\" cx=\"419.7409\" cy=\"-170.4734\" rx=\"15.6129\" ry=\"12.0417\"/>\n<text text-anchor=\"middle\" x=\"419.7409\" y=\"-168.5734\" font-family=\"monospace\" font-size=\"8.00\" fill=\"#7b68ee\">1</text>\n</g>\n<!-- 1&#45;&#45;2 -->\n<g id=\"edge4\" class=\"edge\">\n<title>1&#45;&#45;2</title>\n<path fill=\"none\" stroke=\"#c0c0c0\" d=\"M419.6708,-158.2718C419.581,-142.6372 419.4261,-115.6905 419.3362,-100.0319\"/>\n<text text-anchor=\"middle\" x=\"416.5035\" y=\"-122.7518\" font-family=\"monospace\" font-size=\"8.00\" fill=\"#c0c0c0\">7</text>\n</g>\n<!-- 5 -->\n<g id=\"node6\" class=\"node\">\n<title>5</title>\n<ellipse fill=\"none\" stroke=\"#ff4500\" cx=\"337.8173\" cy=\"-181.8439\" rx=\"15.6129\" ry=\"12.0417\"/>\n<text text-anchor=\"middle\" x=\"337.8173\" y=\"-179.9439\" font-family=\"monospace\" font-size=\"8.00\" fill=\"#7b68ee\">5</text>\n</g>\n<!-- 1&#45;&#45;5 -->\n<g id=\"edge5\" class=\"edge\">\n<title>1&#45;&#45;5</title>\n<path fill=\"none\" stroke=\"#c0c0c0\" d=\"M404.3317,-172.6122C389.6851,-174.645 367.7812,-177.6851 353.1574,-179.7148\"/>\n<text text-anchor=\"middle\" x=\"375.7446\" y=\"-178.7635\" font-family=\"monospace\" font-size=\"8.00\" fill=\"#c0c0c0\">7</text>\n</g>\n<!-- 3 -->\n<g id=\"node4\" class=\"node\">\n<title>3</title>\n<ellipse fill=\"none\" stroke=\"#ff4500\" cx=\"488.3176\" cy=\"-49.3641\" rx=\"15.6129\" ry=\"12.0417\"/>\n<text text-anchor=\"middle\" x=\"488.3176\" y=\"-47.4641\" font-family=\"monospace\" font-size=\"8.00\" fill=\"#7b68ee\">3</text>\n</g>\n<!-- 2&#45;&#45;3 -->\n<g id=\"edge6\" class=\"edge\">\n<title>2&#45;&#45;3</title>\n<path fill=\"none\" stroke=\"#c0c0c0\" d=\"M431.9309,-80.734C444.2344,-73.8892 462.8296,-63.544 475.2636,-56.6265\"/>\n<text text-anchor=\"middle\" x=\"450.5972\" y=\"-71.2803\" font-family=\"monospace\" font-size=\"8.00\" fill=\"#c0c0c0\">5</text>\n</g>\n<!-- 6 -->\n<g id=\"node7\" class=\"node\">\n<title>6</title>\n<ellipse fill=\"none\" stroke=\"#ff4500\" cx=\"404.5959\" cy=\"-144.6094\" rx=\"15.6129\" ry=\"12.0417\"/>\n<text text-anchor=\"middle\" x=\"404.5959\" y=\"-142.7094\" font-family=\"monospace\" font-size=\"8.00\" fill=\"#7b68ee\">6</text>\n</g>\n<!-- 2&#45;&#45;6 -->\n<g id=\"edge7\" class=\"edge\">\n<title>2&#45;&#45;6</title>\n<path fill=\"none\" stroke=\"#c0c0c0\" d=\"M416.1547,-99.8321C413.6651,-109.4763 410.1909,-122.9352 407.7025,-132.5747\"/>\n<text text-anchor=\"middle\" x=\"408.9286\" y=\"-118.8034\" font-family=\"monospace\" font-size=\"8.00\" fill=\"#c0c0c0\">1</text>\n</g>\n<!-- 4 -->\n<g id=\"node5\" class=\"node\">\n<title>4</title>\n<ellipse fill=\"none\" stroke=\"#ff4500\" cx=\"333.2382\" cy=\"-98.8361\" rx=\"15.6129\" ry=\"12.0417\"/>\n<text text-anchor=\"middle\" x=\"333.2382\" y=\"-96.9361\" font-family=\"monospace\" font-size=\"8.00\" fill=\"#7b68ee\">4</text>\n</g>\n<!-- 4&#45;&#45;7 -->\n<g id=\"edge8\" class=\"edge\">\n<title>4&#45;&#45;7</title>\n<path fill=\"none\" stroke=\"#c0c0c0\" d=\"M317.8758,-101.8189C311.1468,-103.1254 303.2658,-104.6555 296.5287,-105.9636\"/>\n<text text-anchor=\"middle\" x=\"304.2023\" y=\"-106.4912\" font-family=\"monospace\" font-size=\"8.00\" fill=\"#c0c0c0\">7</text>\n</g>\n<!-- 5&#45;&#45;6 -->\n<g id=\"edge9\" class=\"edge\">\n<title>5&#45;&#45;6</title>\n<path fill=\"none\" stroke=\"#c0c0c0\" d=\"M350.6929,-174.6647C362.5179,-168.0713 379.9474,-158.3529 391.7599,-151.7665\"/>\n<text text-anchor=\"middle\" x=\"368.2264\" y=\"-165.8156\" font-family=\"monospace\" font-size=\"8.00\" fill=\"#c0c0c0\">1</text>\n</g>\n<!-- 8 -->\n<g id=\"node9\" class=\"node\">\n<title>8</title>\n<ellipse fill=\"none\" stroke=\"#ff4500\" cx=\"221.6919\" cy=\"-172.073\" rx=\"15.6129\" ry=\"12.0417\"/>\n<text text-anchor=\"middle\" x=\"221.6919\" y=\"-170.173\" font-family=\"monospace\" font-size=\"8.00\" fill=\"#7b68ee\">8</text>\n</g>\n<!-- 5&#45;&#45;8 -->\n<g id=\"edge10\" class=\"edge\">\n<title>5&#45;&#45;8</title>\n<path fill=\"none\" stroke=\"#c0c0c0\" d=\"M322.1561,-180.5262C299.9928,-178.6613 259.7059,-175.2715 237.4758,-173.401\"/>\n<text text-anchor=\"middle\" x=\"276.816\" y=\"-179.5636\" font-family=\"monospace\" font-size=\"8.00\" fill=\"#c0c0c0\">5</text>\n</g>\n<!-- 7&#45;&#45;8 -->\n<g id=\"edge11\" class=\"edge\">\n<title>7&#45;&#45;8</title>\n<path fill=\"none\" stroke=\"#c0c0c0\" d=\"M271.8141,-118.8214C260.7193,-130.6088 242.257,-150.2239 231.1047,-162.0725\"/>\n<text text-anchor=\"middle\" x=\"248.4594\" y=\"-143.0469\" font-family=\"monospace\" font-size=\"8.00\" fill=\"#c0c0c0\">8</text>\n</g>\n<!-- 9 -->\n<g id=\"node10\" class=\"node\">\n<title>9</title>\n<ellipse fill=\"none\" stroke=\"#ff4500\" cx=\"121.0256\" cy=\"-173.1553\" rx=\"15.6129\" ry=\"12.0417\"/>\n<text text-anchor=\"middle\" x=\"121.0256\" y=\"-171.2553\" font-family=\"monospace\" font-size=\"8.00\" fill=\"#7b68ee\">9</text>\n</g>\n<!-- 8&#45;&#45;9 -->\n<g id=\"edge12\" class=\"edge\">\n<title>8&#45;&#45;9</title>\n<path fill=\"none\" stroke=\"#c0c0c0\" d=\"M205.9628,-172.2421C187.051,-172.4454 155.5067,-172.7845 136.6442,-172.9873\"/>\n<text text-anchor=\"middle\" x=\"168.3035\" y=\"-175.2147\" font-family=\"monospace\" font-size=\"8.00\" fill=\"#c0c0c0\">8</text>\n</g>\n<!-- 11 -->\n<g id=\"node12\" class=\"node\">\n<title>11</title>\n<ellipse fill=\"none\" stroke=\"#ff4500\" cx=\"217.7803\" cy=\"-250.905\" rx=\"19.1842\" ry=\"12.0417\"/>\n<text text-anchor=\"middle\" x=\"217.7803\" y=\"-249.005\" font-family=\"monospace\" font-size=\"8.00\" fill=\"#7b68ee\">11</text>\n</g>\n<!-- 8&#45;&#45;11 -->\n<g id=\"edge13\" class=\"edge\">\n<title>8&#45;&#45;11</title>\n<path fill=\"none\" stroke=\"#c0c0c0\" d=\"M221.0807,-184.3905C220.3459,-199.2003 219.1202,-223.9027 218.3872,-238.674\"/>\n<text text-anchor=\"middle\" x=\"216.734\" y=\"-214.1322\" font-family=\"monospace\" font-size=\"8.00\" fill=\"#c0c0c0\">9</text>\n</g>\n<!-- 12 -->\n<g id=\"node13\" class=\"node\">\n<title>12</title>\n<ellipse fill=\"none\" stroke=\"#ff4500\" cx=\"139.4985\" cy=\"-121.9087\" rx=\"19.1842\" ry=\"12.0417\"/>\n<text text-anchor=\"middle\" x=\"139.4985\" y=\"-120.0087\" font-family=\"monospace\" font-size=\"8.00\" fill=\"#7b68ee\">12</text>\n</g>\n<!-- 8&#45;&#45;12 -->\n<g id=\"edge14\" class=\"edge\">\n<title>8&#45;&#45;12</title>\n<path fill=\"none\" stroke=\"#c0c0c0\" d=\"M209.2085,-164.4541C194.2089,-155.2995 169.1139,-139.9835 153.4779,-130.4406\"/>\n<text text-anchor=\"middle\" x=\"178.3432\" y=\"-150.0473\" font-family=\"monospace\" font-size=\"8.00\" fill=\"#c0c0c0\">6</text>\n</g>\n<!-- 10 -->\n<g id=\"node11\" class=\"node\">\n<title>10</title>\n<ellipse fill=\"none\" stroke=\"#ff4500\" cx=\"51.4437\" cy=\"-191.7501\" rx=\"19.1842\" ry=\"12.0417\"/>\n<text text-anchor=\"middle\" x=\"51.4437\" y=\"-189.8501\" font-family=\"monospace\" font-size=\"8.00\" fill=\"#7b68ee\">10</text>\n</g>\n<!-- 9&#45;&#45;10 -->\n<g id=\"edge15\" class=\"edge\">\n<title>9&#45;&#45;10</title>\n<path fill=\"none\" stroke=\"#c0c0c0\" d=\"M106.2691,-177.0987C95.4182,-179.9985 80.6232,-183.9523 69.1372,-187.0218\"/>\n<text text-anchor=\"middle\" x=\"84.7031\" y=\"-184.6603\" font-family=\"monospace\" font-size=\"8.00\" fill=\"#c0c0c0\">8</text>\n</g>\n<!-- 9&#45;&#45;12 -->\n<g id=\"edge16\" class=\"edge\">\n<title>9&#45;&#45;12</title>\n<path fill=\"none\" stroke=\"#c0c0c0\" d=\"M125.2174,-161.5266C128.198,-153.2579 132.1897,-142.1845 135.1951,-133.8469\"/>\n<text text-anchor=\"middle\" x=\"127.2063\" y=\"-150.2868\" font-family=\"monospace\" font-size=\"8.00\" fill=\"#c0c0c0\">9</text>\n</g>\n<!-- 13 -->\n<g id=\"node14\" class=\"node\">\n<title>13</title>\n<ellipse fill=\"none\" stroke=\"#ff4500\" cx=\"63.9514\" cy=\"-134.3759\" rx=\"19.1842\" ry=\"12.0417\"/>\n<text text-anchor=\"middle\" x=\"63.9514\" y=\"-132.4759\" font-family=\"monospace\" font-size=\"8.00\" fill=\"#7b68ee\">13</text>\n</g>\n<!-- 9&#45;&#45;13 -->\n<g id=\"edge17\" class=\"edge\">\n<title>9&#45;&#45;13</title>\n<path fill=\"none\" stroke=\"#c0c0c0\" d=\"M109.1998,-165.1201C99.7963,-158.7309 86.6548,-149.8019 76.956,-143.2119\"/>\n<text text-anchor=\"middle\" x=\"90.0779\" y=\"-156.766\" font-family=\"monospace\" font-size=\"8.00\" fill=\"#c0c0c0\">7</text>\n</g>\n<!-- 10&#45;&#45;13 -->\n<g id=\"edge18\" class=\"edge\">\n<title>10&#45;&#45;13</title>\n<path fill=\"none\" stroke=\"#c0c0c0\" d=\"M54.0963,-179.5825C56.2189,-169.8459 59.1811,-156.2579 61.3027,-146.526\"/>\n<text text-anchor=\"middle\" x=\"54.6995\" y=\"-165.6542\" font-family=\"monospace\" font-size=\"8.00\" fill=\"#c0c0c0\">3</text>\n</g>\n<!-- 12&#45;&#45;13 -->\n<g id=\"edge19\" class=\"edge\">\n<title>12&#45;&#45;13</title>\n<path fill=\"none\" stroke=\"#c0c0c0\" d=\"M120.824,-124.9905C109.2012,-126.9085 94.3046,-129.3669 82.673,-131.2864\"/>\n<text text-anchor=\"middle\" x=\"98.7485\" y=\"-130.7384\" font-family=\"monospace\" font-size=\"8.00\" fill=\"#c0c0c0\">2</text>\n</g>\n<!-- 15 -->\n<g id=\"node16\" class=\"node\">\n<title>15</title>\n<ellipse fill=\"none\" stroke=\"#ff4500\" cx=\"141.6707\" cy=\"-33.6755\" rx=\"19.1842\" ry=\"12.0417\"/>\n<text text-anchor=\"middle\" x=\"141.6707\" y=\"-31.7755\" font-family=\"monospace\" font-size=\"8.00\" fill=\"#7b68ee\">15</text>\n</g>\n<!-- 12&#45;&#45;15 -->\n<g id=\"edge20\" class=\"edge\">\n<title>12&#45;&#45;15</title>\n<path fill=\"none\" stroke=\"#c0c0c0\" d=\"M139.8006,-109.6402C140.2156,-92.783 140.9576,-62.642 141.3712,-45.8397\"/>\n<text text-anchor=\"middle\" x=\"137.5859\" y=\"-80.34\" font-family=\"monospace\" font-size=\"8.00\" fill=\"#c0c0c0\">5</text>\n</g>\n<!-- 16 -->\n<g id=\"node17\" class=\"node\">\n<title>16</title>\n<ellipse fill=\"none\" stroke=\"#ff4500\" cx=\"19.0919\" cy=\"-67.9378\" rx=\"19.1842\" ry=\"12.0417\"/>\n<text text-anchor=\"middle\" x=\"19.0919\" y=\"-66.0378\" font-family=\"monospace\" font-size=\"8.00\" fill=\"#7b68ee\">16</text>\n</g>\n<!-- 13&#45;&#45;16 -->\n<g id=\"edge21\" class=\"edge\">\n<title>13&#45;&#45;16</title>\n<path fill=\"none\" stroke=\"#c0c0c0\" d=\"M56.3416,-123.1056C48.0425,-110.8144 34.8439,-91.2669 26.5893,-79.0417\"/>\n<text text-anchor=\"middle\" x=\"38.4655\" y=\"-103.6736\" font-family=\"monospace\" font-size=\"8.00\" fill=\"#c0c0c0\">9</text>\n</g>\n<!-- 14&#45;&#45;15 -->\n<g id=\"edge22\" class=\"edge\">\n<title>14&#45;&#45;15</title>\n<path fill=\"none\" stroke=\"#c0c0c0\" d=\"M215.0112,-16.2991C198.9879,-20.0954 175.7024,-25.6124 159.6904,-29.4061\"/>\n<text text-anchor=\"middle\" x=\"184.3508\" y=\"-25.4526\" font-family=\"monospace\" font-size=\"8.00\" fill=\"#c0c0c0\">9</text>\n</g>\n<!-- 17 -->\n<g id=\"node18\" class=\"node\">\n<title>17</title>\n<ellipse fill=\"none\" stroke=\"#ff4500\" cx=\"60.5124\" cy=\"-16.0359\" rx=\"19.1842\" ry=\"12.0417\"/>\n<text text-anchor=\"middle\" x=\"60.5124\" y=\"-14.1359\" font-family=\"monospace\" font-size=\"8.00\" fill=\"#7b68ee\">17</text>\n</g>\n<!-- 15&#45;&#45;17 -->\n<g id=\"edge23\" class=\"edge\">\n<title>15&#45;&#45;17</title>\n<path fill=\"none\" stroke=\"#c0c0c0\" d=\"M123.2546,-29.6728C109.8791,-26.7656 91.8692,-22.8512 78.5761,-19.962\"/>\n<text text-anchor=\"middle\" x=\"97.9153\" y=\"-27.4174\" font-family=\"monospace\" font-size=\"8.00\" fill=\"#c0c0c0\">7</text>\n</g>\n<!-- 16&#45;&#45;17 -->\n<g id=\"edge24\" class=\"edge\">\n<title>16&#45;&#45;17</title>\n<path fill=\"none\" stroke=\"#c0c0c0\" d=\"M27.6742,-57.1837C34.6883,-48.3948 44.5678,-36.0153 51.6553,-27.1343\"/>\n<text text-anchor=\"middle\" x=\"36.6648\" y=\"-44.759\" font-family=\"monospace\" font-size=\"8.00\" fill=\"#c0c0c0\">8</text>\n</g>\n</g>\n</svg>\n"
          },
          "metadata": {},
          "execution_count": 8
        }
      ]
    },
    {
      "cell_type": "code",
      "metadata": {
        "colab": {
          "base_uri": "https://localhost:8080/",
          "height": 417
        },
        "id": "wDMYFiEFHsej",
        "outputId": "d8fced79-4569-44f2-8d19-b7fe9c1e2d52"
      },
      "source": [
        "path, cost = dijkstra(G, 8)\n",
        "print(path)\n",
        "adjlShow(G, weighted=True, path=path)"
      ],
      "execution_count": 19,
      "outputs": [
        {
          "output_type": "stream",
          "name": "stdout",
          "text": [
            "[2, 5, 6, 2, 7, 8, 5, 8, None, 8, 9, 8, 8, 12, 0, 12, 13, 15]\n"
          ]
        },
        {
          "output_type": "execute_result",
          "data": {
            "text/plain": [
              "<graphviz.dot.Graph at 0x7f81ae79ed10>"
            ],
            "image/svg+xml": "<?xml version=\"1.0\" encoding=\"UTF-8\" standalone=\"no\"?>\n<!DOCTYPE svg PUBLIC \"-//W3C//DTD SVG 1.1//EN\"\n \"http://www.w3.org/Graphics/SVG/1.1/DTD/svg11.dtd\">\n<!-- Generated by graphviz version 2.40.1 (20161225.0304)\n -->\n<!-- Title: G Pages: 1 -->\n<svg width=\"507pt\" height=\"284pt\"\n viewBox=\"0.00 0.00 507.20 283.78\" xmlns=\"http://www.w3.org/2000/svg\" xmlns:xlink=\"http://www.w3.org/1999/xlink\">\n<g id=\"graph0\" class=\"graph\" transform=\"scale(1 1) rotate(0) translate(4 279.7757)\">\n<title>G</title>\n<polygon fill=\"#ffffff\" stroke=\"transparent\" points=\"-4,4 -4,-279.7757 503.1975,-279.7757 503.1975,4 -4,4\"/>\n<!-- 0 -->\n<g id=\"node1\" class=\"node\">\n<title>0</title>\n<ellipse fill=\"none\" stroke=\"#ff4500\" cx=\"332.6615\" cy=\"-73.8556\" rx=\"15.6129\" ry=\"12.0417\"/>\n<text text-anchor=\"middle\" x=\"332.6615\" y=\"-71.9556\" font-family=\"monospace\" font-size=\"8.00\" fill=\"#7b68ee\">0</text>\n</g>\n<!-- 7 -->\n<g id=\"node8\" class=\"node\">\n<title>7</title>\n<ellipse fill=\"none\" stroke=\"#ff4500\" cx=\"285.3868\" cy=\"-94.3875\" rx=\"15.6129\" ry=\"12.0417\"/>\n<text text-anchor=\"middle\" x=\"285.3868\" y=\"-92.4875\" font-family=\"monospace\" font-size=\"8.00\" fill=\"#7b68ee\">7</text>\n</g>\n<!-- 0&#45;&#45;7 -->\n<g id=\"edge18\" class=\"edge\">\n<title>0&#45;&#45;7</title>\n<path fill=\"none\" stroke=\"#c0c0c0\" d=\"M318.9877,-79.7943C312.7702,-82.4946 305.427,-85.6838 299.1937,-88.3911\"/>\n<text text-anchor=\"middle\" x=\"306.0907\" y=\"-86.6927\" font-family=\"monospace\" font-size=\"8.00\" fill=\"#c0c0c0\">8</text>\n</g>\n<!-- 14 -->\n<g id=\"node15\" class=\"node\">\n<title>14</title>\n<ellipse fill=\"none\" stroke=\"#ff4500\" cx=\"233.427\" cy=\"-41.802\" rx=\"19.1842\" ry=\"12.0417\"/>\n<text text-anchor=\"middle\" x=\"233.427\" y=\"-39.902\" font-family=\"monospace\" font-size=\"8.00\" fill=\"#7b68ee\">14</text>\n</g>\n<!-- 0&#45;&#45;14 -->\n<g id=\"edge14\" class=\"edge\">\n<title>0&#45;&#45;14</title>\n<path fill=\"none\" stroke=\"#ffa500\" stroke-width=\"2\" d=\"M318.0191,-69.126C302.8256,-64.2184 278.7298,-56.4352 260.1346,-50.4288\"/>\n<polygon fill=\"#ffa500\" stroke=\"#ffa500\" stroke-width=\"2\" points=\"261.053,-47.0475 250.4613,-47.3042 258.9014,-53.7086 261.053,-47.0475\"/>\n<text text-anchor=\"middle\" x=\"286.0768\" y=\"-62.3774\" font-family=\"monospace\" font-size=\"8.00\" fill=\"#c0c0c0\">3</text>\n</g>\n<!-- 1 -->\n<g id=\"node2\" class=\"node\">\n<title>1</title>\n<ellipse fill=\"none\" stroke=\"#ff4500\" cx=\"411.6944\" cy=\"-207.4804\" rx=\"15.6129\" ry=\"12.0417\"/>\n<text text-anchor=\"middle\" x=\"411.6944\" y=\"-205.5804\" font-family=\"monospace\" font-size=\"8.00\" fill=\"#7b68ee\">1</text>\n</g>\n<!-- 2 -->\n<g id=\"node3\" class=\"node\">\n<title>2</title>\n<ellipse fill=\"none\" stroke=\"#ff4500\" cx=\"419.3943\" cy=\"-126.3481\" rx=\"15.6129\" ry=\"12.0417\"/>\n<text text-anchor=\"middle\" x=\"419.3943\" y=\"-124.4481\" font-family=\"monospace\" font-size=\"8.00\" fill=\"#7b68ee\">2</text>\n</g>\n<!-- 1&#45;&#45;2 -->\n<g id=\"edge19\" class=\"edge\">\n<title>1&#45;&#45;2</title>\n<path fill=\"none\" stroke=\"#c0c0c0\" d=\"M412.8639,-195.1582C414.3195,-179.8203 416.7901,-153.7883 418.2391,-138.5205\"/>\n<text text-anchor=\"middle\" x=\"412.5515\" y=\"-160.4394\" font-family=\"monospace\" font-size=\"8.00\" fill=\"#c0c0c0\">7</text>\n</g>\n<!-- 2&#45;&#45;0 -->\n<g id=\"edge1\" class=\"edge\">\n<title>2&#45;&#45;0</title>\n<path fill=\"none\" stroke=\"#ffa500\" stroke-width=\"2\" d=\"M406.9676,-118.8272C393.1847,-110.4856 370.7017,-96.8783 354.0708,-86.813\"/>\n<polygon fill=\"#ffa500\" stroke=\"#ffa500\" stroke-width=\"2\" points=\"355.4325,-83.5461 345.0651,-81.3626 351.8081,-89.5347 355.4325,-83.5461\"/>\n<text text-anchor=\"middle\" x=\"377.5192\" y=\"-105.4201\" font-family=\"monospace\" font-size=\"8.00\" fill=\"#c0c0c0\">4</text>\n</g>\n<!-- 3 -->\n<g id=\"node4\" class=\"node\">\n<title>3</title>\n<ellipse fill=\"none\" stroke=\"#ff4500\" cx=\"483.6412\" cy=\"-97.9175\" rx=\"15.6129\" ry=\"12.0417\"/>\n<text text-anchor=\"middle\" x=\"483.6412\" y=\"-96.0175\" font-family=\"monospace\" font-size=\"8.00\" fill=\"#7b68ee\">3</text>\n</g>\n<!-- 2&#45;&#45;3 -->\n<g id=\"edge4\" class=\"edge\">\n<title>2&#45;&#45;3</title>\n<path fill=\"none\" stroke=\"#ffa500\" stroke-width=\"2\" d=\"M433.0194,-120.3187C441.0262,-116.7755 451.3589,-112.2031 460.5993,-108.114\"/>\n<polygon fill=\"#ffa500\" stroke=\"#ffa500\" stroke-width=\"2\" points=\"462.3074,-111.1856 470.0357,-103.9382 459.4747,-104.7844 462.3074,-111.1856\"/>\n<text text-anchor=\"middle\" x=\"443.8094\" y=\"-116.8164\" font-family=\"monospace\" font-size=\"8.00\" fill=\"#c0c0c0\">5</text>\n</g>\n<!-- 4 -->\n<g id=\"node5\" class=\"node\">\n<title>4</title>\n<ellipse fill=\"none\" stroke=\"#ff4500\" cx=\"316.2353\" cy=\"-12.0208\" rx=\"15.6129\" ry=\"12.0417\"/>\n<text text-anchor=\"middle\" x=\"316.2353\" y=\"-10.1208\" font-family=\"monospace\" font-size=\"8.00\" fill=\"#7b68ee\">4</text>\n</g>\n<!-- 5 -->\n<g id=\"node6\" class=\"node\">\n<title>5</title>\n<ellipse fill=\"none\" stroke=\"#ff4500\" cx=\"344.5154\" cy=\"-204.0021\" rx=\"15.6129\" ry=\"12.0417\"/>\n<text text-anchor=\"middle\" x=\"344.5154\" y=\"-202.1021\" font-family=\"monospace\" font-size=\"8.00\" fill=\"#7b68ee\">5</text>\n</g>\n<!-- 5&#45;&#45;1 -->\n<g id=\"edge2\" class=\"edge\">\n<title>5&#45;&#45;1</title>\n<path fill=\"none\" stroke=\"#ffa500\" stroke-width=\"2\" d=\"M360.0964,-204.8089C367.702,-205.2027 377.0564,-205.687 385.7021,-206.1346\"/>\n<polygon fill=\"#ffa500\" stroke=\"#ffa500\" stroke-width=\"2\" points=\"385.5637,-209.6321 395.7313,-206.6539 385.9257,-202.6414 385.5637,-209.6321\"/>\n<text text-anchor=\"middle\" x=\"369.8993\" y=\"-208.0718\" font-family=\"monospace\" font-size=\"8.00\" fill=\"#c0c0c0\">7</text>\n</g>\n<!-- 6 -->\n<g id=\"node7\" class=\"node\">\n<title>6</title>\n<ellipse fill=\"none\" stroke=\"#ff4500\" cx=\"424.523\" cy=\"-180.4993\" rx=\"15.6129\" ry=\"12.0417\"/>\n<text text-anchor=\"middle\" x=\"424.523\" y=\"-178.5993\" font-family=\"monospace\" font-size=\"8.00\" fill=\"#7b68ee\">6</text>\n</g>\n<!-- 5&#45;&#45;6 -->\n<g id=\"edge7\" class=\"edge\">\n<title>5&#45;&#45;6</title>\n<path fill=\"none\" stroke=\"#ffa500\" stroke-width=\"2\" d=\"M359.19,-199.6914C370.5809,-196.3452 386.6263,-191.6318 399.9649,-187.7134\"/>\n<polygon fill=\"#ffa500\" stroke=\"#ffa500\" stroke-width=\"2\" points=\"401.3333,-190.9594 409.9414,-184.7828 399.3603,-184.2432 401.3333,-190.9594\"/>\n<text text-anchor=\"middle\" x=\"376.5775\" y=\"-196.3024\" font-family=\"monospace\" font-size=\"8.00\" fill=\"#c0c0c0\">1</text>\n</g>\n<!-- 6&#45;&#45;2 -->\n<g id=\"edge3\" class=\"edge\">\n<title>6&#45;&#45;2</title>\n<path fill=\"none\" stroke=\"#ffa500\" stroke-width=\"2\" d=\"M423.3847,-168.4814C422.8347,-162.6742 422.1564,-155.5119 421.516,-148.7505\"/>\n<polygon fill=\"#ffa500\" stroke=\"#ffa500\" stroke-width=\"2\" points=\"424.9923,-148.3333 420.5649,-138.7079 418.0234,-148.9934 424.9923,-148.3333\"/>\n<text text-anchor=\"middle\" x=\"419.4504\" y=\"-161.216\" font-family=\"monospace\" font-size=\"8.00\" fill=\"#c0c0c0\">1</text>\n</g>\n<!-- 7&#45;&#45;4 -->\n<g id=\"edge5\" class=\"edge\">\n<title>7&#45;&#45;4</title>\n<path fill=\"none\" stroke=\"#ffa500\" stroke-width=\"2\" d=\"M289.8066,-82.5864C294.6172,-69.742 302.4076,-48.9414 308.2867,-33.2438\"/>\n<polygon fill=\"#ffa500\" stroke=\"#ffa500\" stroke-width=\"2\" points=\"311.5939,-34.3924 311.8237,-23.8001 305.0386,-31.9372 311.5939,-34.3924\"/>\n<text text-anchor=\"middle\" x=\"296.0467\" y=\"-60.5151\" font-family=\"monospace\" font-size=\"8.00\" fill=\"#c0c0c0\">7</text>\n</g>\n<!-- 8 -->\n<g id=\"node9\" class=\"node\">\n<title>8</title>\n<ellipse fill=\"none\" stroke=\"#ff4500\" cx=\"234.0302\" cy=\"-183.5436\" rx=\"15.6129\" ry=\"12.0417\"/>\n<text text-anchor=\"middle\" x=\"234.0302\" y=\"-181.6436\" font-family=\"monospace\" font-size=\"8.00\" fill=\"#7b68ee\">8</text>\n</g>\n<!-- 8&#45;&#45;5 -->\n<g id=\"edge6\" class=\"edge\">\n<title>8&#45;&#45;5</title>\n<path fill=\"none\" stroke=\"#ffa500\" stroke-width=\"2\" d=\"M249.3927,-186.3883C267.4504,-189.732 297.6812,-195.3299 319.2146,-199.3172\"/>\n<polygon fill=\"#ffa500\" stroke=\"#ffa500\" stroke-width=\"2\" points=\"318.8132,-202.8023 329.2834,-201.1816 320.0878,-195.9193 318.8132,-202.8023\"/>\n<text text-anchor=\"middle\" x=\"281.3037\" y=\"-195.4528\" font-family=\"monospace\" font-size=\"8.00\" fill=\"#c0c0c0\">5</text>\n</g>\n<!-- 8&#45;&#45;7 -->\n<g id=\"edge8\" class=\"edge\">\n<title>8&#45;&#45;7</title>\n<path fill=\"none\" stroke=\"#ffa500\" stroke-width=\"2\" d=\"M240.5346,-172.252C248.8697,-157.782 263.4669,-132.4409 273.7401,-114.6065\"/>\n<polygon fill=\"#ffa500\" stroke=\"#ffa500\" stroke-width=\"2\" points=\"276.9766,-115.9997 278.9353,-105.5875 270.911,-112.5057 276.9766,-115.9997\"/>\n<text text-anchor=\"middle\" x=\"254.1373\" y=\"-146.0292\" font-family=\"monospace\" font-size=\"8.00\" fill=\"#c0c0c0\">8</text>\n</g>\n<!-- 9 -->\n<g id=\"node10\" class=\"node\">\n<title>9</title>\n<ellipse fill=\"none\" stroke=\"#ff4500\" cx=\"135.635\" cy=\"-199.76\" rx=\"15.6129\" ry=\"12.0417\"/>\n<text text-anchor=\"middle\" x=\"135.635\" y=\"-197.86\" font-family=\"monospace\" font-size=\"8.00\" fill=\"#7b68ee\">9</text>\n</g>\n<!-- 8&#45;&#45;9 -->\n<g id=\"edge9\" class=\"edge\">\n<title>8&#45;&#45;9</title>\n<path fill=\"none\" stroke=\"#ffa500\" stroke-width=\"2\" d=\"M218.656,-186.0775C203.2036,-188.6241 179.1228,-192.5928 160.8674,-195.6015\"/>\n<polygon fill=\"#ffa500\" stroke=\"#ffa500\" stroke-width=\"2\" points=\"160.199,-192.1643 150.9013,-197.244 161.3374,-199.0712 160.199,-192.1643\"/>\n<text text-anchor=\"middle\" x=\"186.7617\" y=\"-193.4395\" font-family=\"monospace\" font-size=\"8.00\" fill=\"#c0c0c0\">8</text>\n</g>\n<!-- 11 -->\n<g id=\"node12\" class=\"node\">\n<title>11</title>\n<ellipse fill=\"none\" stroke=\"#ff4500\" cx=\"235.9823\" cy=\"-263.7549\" rx=\"19.1842\" ry=\"12.0417\"/>\n<text text-anchor=\"middle\" x=\"235.9823\" y=\"-261.8549\" font-family=\"monospace\" font-size=\"8.00\" fill=\"#7b68ee\">11</text>\n</g>\n<!-- 8&#45;&#45;11 -->\n<g id=\"edge11\" class=\"edge\">\n<title>8&#45;&#45;11</title>\n<path fill=\"none\" stroke=\"#ffa500\" stroke-width=\"2\" d=\"M234.3267,-195.726C234.6208,-207.8096 235.0782,-226.607 235.4378,-241.383\"/>\n<polygon fill=\"#ffa500\" stroke=\"#ffa500\" stroke-width=\"2\" points=\"231.9471,-241.8089 235.6894,-251.7207 238.945,-241.6385 231.9471,-241.8089\"/>\n<text text-anchor=\"middle\" x=\"231.8823\" y=\"-221.1545\" font-family=\"monospace\" font-size=\"8.00\" fill=\"#c0c0c0\">9</text>\n</g>\n<!-- 12 -->\n<g id=\"node13\" class=\"node\">\n<title>12</title>\n<ellipse fill=\"none\" stroke=\"#ff4500\" cx=\"145.9149\" cy=\"-146.7402\" rx=\"19.1842\" ry=\"12.0417\"/>\n<text text-anchor=\"middle\" x=\"145.9149\" y=\"-144.8402\" font-family=\"monospace\" font-size=\"8.00\" fill=\"#7b68ee\">12</text>\n</g>\n<!-- 8&#45;&#45;12 -->\n<g id=\"edge12\" class=\"edge\">\n<title>8&#45;&#45;12</title>\n<path fill=\"none\" stroke=\"#ffa500\" stroke-width=\"2\" d=\"M220.2622,-177.7931C207.1949,-172.3352 187.2373,-163.9995 171.2888,-157.3382\"/>\n<polygon fill=\"#ffa500\" stroke=\"#ffa500\" stroke-width=\"2\" points=\"172.5506,-154.0722 161.9742,-153.4477 169.8527,-160.5315 172.5506,-154.0722\"/>\n<text text-anchor=\"middle\" x=\"192.7755\" y=\"-170.1657\" font-family=\"monospace\" font-size=\"8.00\" fill=\"#c0c0c0\">6</text>\n</g>\n<!-- 10 -->\n<g id=\"node11\" class=\"node\">\n<title>10</title>\n<ellipse fill=\"none\" stroke=\"#ff4500\" cx=\"74.6911\" cy=\"-229.9782\" rx=\"19.1842\" ry=\"12.0417\"/>\n<text text-anchor=\"middle\" x=\"74.6911\" y=\"-228.0782\" font-family=\"monospace\" font-size=\"8.00\" fill=\"#7b68ee\">10</text>\n</g>\n<!-- 9&#45;&#45;10 -->\n<g id=\"edge10\" class=\"edge\">\n<title>9&#45;&#45;10</title>\n<path fill=\"none\" stroke=\"#ffa500\" stroke-width=\"2\" d=\"M122.4111,-206.3169C115.567,-209.7104 106.9921,-213.9622 99.0059,-217.922\"/>\n<polygon fill=\"#ffa500\" stroke=\"#ffa500\" stroke-width=\"2\" points=\"97.4446,-214.7894 90.0403,-222.3675 100.5543,-221.0609 97.4446,-214.7894\"/>\n<text text-anchor=\"middle\" x=\"107.7085\" y=\"-214.7194\" font-family=\"monospace\" font-size=\"8.00\" fill=\"#c0c0c0\">8</text>\n</g>\n<!-- 9&#45;&#45;12 -->\n<g id=\"edge20\" class=\"edge\">\n<title>9&#45;&#45;12</title>\n<path fill=\"none\" stroke=\"#c0c0c0\" d=\"M137.9677,-187.729C139.65,-179.052 141.9112,-167.3897 143.5915,-158.7236\"/>\n<text text-anchor=\"middle\" x=\"137.7796\" y=\"-175.8263\" font-family=\"monospace\" font-size=\"8.00\" fill=\"#c0c0c0\">9</text>\n</g>\n<!-- 13 -->\n<g id=\"node14\" class=\"node\">\n<title>13</title>\n<ellipse fill=\"none\" stroke=\"#ff4500\" cx=\"72.1693\" cy=\"-169.5059\" rx=\"19.1842\" ry=\"12.0417\"/>\n<text text-anchor=\"middle\" x=\"72.1693\" y=\"-167.6059\" font-family=\"monospace\" font-size=\"8.00\" fill=\"#7b68ee\">13</text>\n</g>\n<!-- 9&#45;&#45;13 -->\n<g id=\"edge21\" class=\"edge\">\n<title>9&#45;&#45;13</title>\n<path fill=\"none\" stroke=\"#c0c0c0\" d=\"M122.1755,-193.3439C111.9874,-188.4872 97.987,-181.8132 87.3911,-176.7622\"/>\n<text text-anchor=\"middle\" x=\"101.7833\" y=\"-187.653\" font-family=\"monospace\" font-size=\"8.00\" fill=\"#c0c0c0\">7</text>\n</g>\n<!-- 10&#45;&#45;13 -->\n<g id=\"edge22\" class=\"edge\">\n<title>10&#45;&#45;13</title>\n<path fill=\"none\" stroke=\"#c0c0c0\" d=\"M74.1808,-217.7407C73.7432,-207.249 73.1161,-192.2116 72.6788,-181.7252\"/>\n<text text-anchor=\"middle\" x=\"70.4298\" y=\"-202.3329\" font-family=\"monospace\" font-size=\"8.00\" fill=\"#c0c0c0\">3</text>\n</g>\n<!-- 12&#45;&#45;13 -->\n<g id=\"edge13\" class=\"edge\">\n<title>12&#45;&#45;13</title>\n<path fill=\"none\" stroke=\"#ffa500\" stroke-width=\"2\" d=\"M128.4382,-152.1354C119.7133,-154.8288 108.963,-158.1475 99.2044,-161.16\"/>\n<polygon fill=\"#ffa500\" stroke=\"#ffa500\" stroke-width=\"2\" points=\"98.0432,-157.8554 89.5205,-164.1495 100.108,-164.544 98.0432,-157.8554\"/>\n<text text-anchor=\"middle\" x=\"110.8213\" y=\"-159.2477\" font-family=\"monospace\" font-size=\"8.00\" fill=\"#c0c0c0\">2</text>\n</g>\n<!-- 15 -->\n<g id=\"node16\" class=\"node\">\n<title>15</title>\n<ellipse fill=\"none\" stroke=\"#ff4500\" cx=\"139.1933\" cy=\"-61.3619\" rx=\"19.1842\" ry=\"12.0417\"/>\n<text text-anchor=\"middle\" x=\"139.1933\" y=\"-59.4619\" font-family=\"monospace\" font-size=\"8.00\" fill=\"#7b68ee\">15</text>\n</g>\n<!-- 12&#45;&#45;15 -->\n<g id=\"edge15\" class=\"edge\">\n<title>12&#45;&#45;15</title>\n<path fill=\"none\" stroke=\"#ffa500\" stroke-width=\"2\" d=\"M144.9519,-134.5076C143.9137,-121.3204 142.2385,-100.0423 140.9619,-83.8272\"/>\n<polygon fill=\"#ffa500\" stroke=\"#ffa500\" stroke-width=\"2\" points=\"144.4287,-83.2663 140.1545,-73.5719 137.4503,-83.8157 144.4287,-83.2663\"/>\n<text text-anchor=\"middle\" x=\"139.9569\" y=\"-111.7674\" font-family=\"monospace\" font-size=\"8.00\" fill=\"#c0c0c0\">5</text>\n</g>\n<!-- 16 -->\n<g id=\"node17\" class=\"node\">\n<title>16</title>\n<ellipse fill=\"none\" stroke=\"#ff4500\" cx=\"19.0919\" cy=\"-108.067\" rx=\"19.1842\" ry=\"12.0417\"/>\n<text text-anchor=\"middle\" x=\"19.0919\" y=\"-106.167\" font-family=\"monospace\" font-size=\"8.00\" fill=\"#7b68ee\">16</text>\n</g>\n<!-- 13&#45;&#45;16 -->\n<g id=\"edge16\" class=\"edge\">\n<title>13&#45;&#45;16</title>\n<path fill=\"none\" stroke=\"#ffa500\" stroke-width=\"2\" d=\"M62.9239,-158.8041C55.2368,-149.9061 44.1212,-137.0393 35.0074,-126.4898\"/>\n<polygon fill=\"#ffa500\" stroke=\"#ffa500\" stroke-width=\"2\" points=\"37.4172,-123.9253 28.2313,-118.6462 32.1202,-128.5015 37.4172,-123.9253\"/>\n<text text-anchor=\"middle\" x=\"45.9657\" y=\"-145.2469\" font-family=\"monospace\" font-size=\"8.00\" fill=\"#c0c0c0\">9</text>\n</g>\n<!-- 14&#45;&#45;15 -->\n<g id=\"edge23\" class=\"edge\">\n<title>14&#45;&#45;15</title>\n<path fill=\"none\" stroke=\"#c0c0c0\" d=\"M215.2578,-45.5733C198.6781,-49.0148 174.2907,-54.0768 157.6282,-57.5354\"/>\n<text text-anchor=\"middle\" x=\"183.443\" y=\"-54.1544\" font-family=\"monospace\" font-size=\"8.00\" fill=\"#c0c0c0\">9</text>\n</g>\n<!-- 17 -->\n<g id=\"node18\" class=\"node\">\n<title>17</title>\n<ellipse fill=\"none\" stroke=\"#ff4500\" cx=\"54.3847\" cy=\"-50.6997\" rx=\"19.1842\" ry=\"12.0417\"/>\n<text text-anchor=\"middle\" x=\"54.3847\" y=\"-48.7997\" font-family=\"monospace\" font-size=\"8.00\" fill=\"#7b68ee\">17</text>\n</g>\n<!-- 15&#45;&#45;17 -->\n<g id=\"edge17\" class=\"edge\">\n<title>15&#45;&#45;17</title>\n<path fill=\"none\" stroke=\"#ffa500\" stroke-width=\"2\" d=\"M120.3715,-58.9956C109.5014,-57.6291 95.5999,-55.8813 83.362,-54.3428\"/>\n<polygon fill=\"#ffa500\" stroke=\"#ffa500\" stroke-width=\"2\" points=\"83.5124,-50.8342 73.1538,-53.0594 82.6391,-57.7796 83.5124,-50.8342\"/>\n<text text-anchor=\"middle\" x=\"98.8668\" y=\"-59.2692\" font-family=\"monospace\" font-size=\"8.00\" fill=\"#c0c0c0\">7</text>\n</g>\n<!-- 16&#45;&#45;17 -->\n<g id=\"edge24\" class=\"edge\">\n<title>16&#45;&#45;17</title>\n<path fill=\"none\" stroke=\"#c0c0c0\" d=\"M26.0646,-96.7331C32.2519,-86.6758 41.2435,-72.0603 47.4265,-62.0101\"/>\n<text text-anchor=\"middle\" x=\"33.7455\" y=\"-81.9716\" font-family=\"monospace\" font-size=\"8.00\" fill=\"#c0c0c0\">8</text>\n</g>\n</g>\n</svg>\n"
          },
          "metadata": {},
          "execution_count": 19
        }
      ]
    },
    {
      "cell_type": "code",
      "metadata": {
        "id": "i8ZC115VItIf"
      },
      "source": [
        ""
      ],
      "execution_count": null,
      "outputs": []
    }
  ]
}